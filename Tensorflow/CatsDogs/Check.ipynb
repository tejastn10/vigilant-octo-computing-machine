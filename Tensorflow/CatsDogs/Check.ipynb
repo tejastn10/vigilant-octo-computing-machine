{
 "cells": [
  {
   "cell_type": "code",
   "execution_count": 1,
   "metadata": {},
   "outputs": [],
   "source": [
    "import cv2\n",
    "import tensorflow as tf\n",
    "\n",
    "CATTEGORIES = [\"Dog\", \"Cat\"]\n",
    "\n",
    "def prepare(filepath):\n",
    "    IMG_SIZE = 50\n",
    "    img_array = cv2.imread(filepath, cv2.IMREAD_GRAYSCALE)\n",
    "    new_array = cv2.resize(img_array, (IMG_SIZE, IMG_SIZE))\n",
    "\n",
    "    return new_array.reshape(-1, IMG_SIZE, IMG_SIZE, 1)\n",
    "\n",
    "\n",
    "model = tf.keras.models.load_model(\"64x3-CNN.model\")"
   ]
  },
  {
   "cell_type": "code",
   "execution_count": 2,
   "metadata": {},
   "outputs": [
    {
     "output_type": "stream",
     "name": "stdout",
     "text": "Cat\n"
    }
   ],
   "source": [
    "prediction = model.predict([prepare('cat.jpg')])\n",
    "\n",
    "print(CATTEGORIES[int(prediction[0][0])])"
   ]
  },
  {
   "cell_type": "code",
   "execution_count": 3,
   "metadata": {},
   "outputs": [
    {
     "output_type": "stream",
     "name": "stdout",
     "text": "Dog\n"
    }
   ],
   "source": [
    "prediction = model.predict([prepare('dog.jpg')])\n",
    "\n",
    "print(CATTEGORIES[int(prediction[0][0])])"
   ]
  }
 ],
 "metadata": {
  "kernelspec": {
   "name": "python38364bitsentmlcondad81c6b3c9613480aa347e550db709bb3",
   "display_name": "Python 3.8.3 64-bit ('SentML': conda)"
  }
 },
 "nbformat": 4,
 "nbformat_minor": 4
}