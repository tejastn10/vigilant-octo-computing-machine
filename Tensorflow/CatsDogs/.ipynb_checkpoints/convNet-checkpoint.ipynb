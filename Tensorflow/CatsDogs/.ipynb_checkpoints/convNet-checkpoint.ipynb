{
 "cells": [
  {
   "cell_type": "code",
   "execution_count": 5,
   "metadata": {},
   "outputs": [
    {
     "name": "stdout",
     "output_type": "stream",
     "text": [
      "Epoch 1/10\n",
      "702/702 [==============================] - 41s 59ms/step - loss: 0.6041 - accuracy: 0.6652 - val_loss: 0.5210 - val_accuracy: 0.7439\n",
      "Epoch 2/10\n",
      "702/702 [==============================] - 41s 59ms/step - loss: 0.5031 - accuracy: 0.7551 - val_loss: 0.4796 - val_accuracy: 0.7691\n",
      "Epoch 3/10\n",
      "702/702 [==============================] - 42s 59ms/step - loss: 0.4552 - accuracy: 0.7836 - val_loss: 0.4556 - val_accuracy: 0.7832\n",
      "Epoch 4/10\n",
      "702/702 [==============================] - 42s 60ms/step - loss: 0.4195 - accuracy: 0.8067 - val_loss: 0.4637 - val_accuracy: 0.7832\n",
      "Epoch 5/10\n",
      "702/702 [==============================] - 42s 60ms/step - loss: 0.3782 - accuracy: 0.8295 - val_loss: 0.4621 - val_accuracy: 0.7816\n",
      "Epoch 6/10\n",
      "702/702 [==============================] - 43s 61ms/step - loss: 0.3413 - accuracy: 0.8508 - val_loss: 0.4448 - val_accuracy: 0.7912\n",
      "Epoch 7/10\n",
      "702/702 [==============================] - 42s 60ms/step - loss: 0.2949 - accuracy: 0.8740 - val_loss: 0.5159 - val_accuracy: 0.7772\n",
      "Epoch 8/10\n",
      "702/702 [==============================] - 42s 60ms/step - loss: 0.2498 - accuracy: 0.8955 - val_loss: 0.4913 - val_accuracy: 0.8004\n",
      "Epoch 9/10\n",
      "702/702 [==============================] - 43s 61ms/step - loss: 0.2032 - accuracy: 0.9191 - val_loss: 0.5066 - val_accuracy: 0.7896\n",
      "Epoch 10/10\n",
      "702/702 [==============================] - 43s 61ms/step - loss: 0.1562 - accuracy: 0.9403 - val_loss: 0.6337 - val_accuracy: 0.7784\n"
     ]
    },
    {
     "data": {
      "text/plain": [
       "<tensorflow.python.keras.callbacks.History at 0x7f1df3d78400>"
      ]
     },
     "execution_count": 5,
     "metadata": {},
     "output_type": "execute_result"
    }
   ],
   "source": [
    "import tensorflow as tf\n",
    "import pickle\n",
    "import time\n",
    "\n",
    "from tensorflow.keras.models import Sequential\n",
    "from tensorflow.keras.layers import Dense, Dropout, Activation, Flatten, Conv2D, MaxPooling2D\n",
    "from tensorflow.keras.callbacks import TensorBoard\n",
    "\n",
    "NAME = \"Cats-vs-Dogs-cnn-64x2{}\".format(int(time.time()))\n",
    "\n",
    "tensorboard = TensorBoard(log_dir='logs/{}'.format(NAME))\n",
    "\n",
    "X = pickle.load(open(\"X.pickle\", \"rb\"))\n",
    "y = pickle.load(open(\"y.pickle\", \"rb\"))\n",
    "\n",
    "X = X/255.0\n",
    "\n",
    "X = tf.constant(X)\n",
    "y = tf.constant(y)\n",
    "\n",
    "model = Sequential()\n",
    "model.add(Conv2D(64, (3, 3), input_shape=X.shape[1:]))\n",
    "model.add(Activation('relu'))\n",
    "model.add(MaxPooling2D(pool_size=(2, 2)))\n",
    "\n",
    "model.add(Conv2D(64, (3, 3)))\n",
    "model.add(Activation('relu'))\n",
    "model.add(MaxPooling2D(pool_size=(2, 2)))\n",
    "\n",
    "model.add(Flatten())\n",
    "\n",
    "model.add(Dense(64))\n",
    "model.add(Activation('relu'))\n",
    "\n",
    "model.add(Dense(1))\n",
    "model.add(Activation('sigmoid'))\n",
    "\n",
    "model.compile(loss='binary_crossentropy', optimizer='adam', metrics=['accuracy'])\n",
    "\n",
    "\n",
    "\n",
    "model.fit(X, y, batch_size=32, validation_split=0.1, epochs=10, callbacks=[tensorboard])"
   ]
  }
 ],
 "metadata": {
  "kernelspec": {
   "display_name": "Python 3.8.3 64-bit ('SentML': conda)",
   "language": "python",
   "name": "python38364bitsentmlcondad81c6b3c9613480aa347e550db709bb3"
  },
  "language_info": {
   "codemirror_mode": {
    "name": "ipython",
    "version": 3
   },
   "file_extension": ".py",
   "mimetype": "text/x-python",
   "name": "python",
   "nbconvert_exporter": "python",
   "pygments_lexer": "ipython3",
   "version": "3.8.3"
  }
 },
 "nbformat": 4,
 "nbformat_minor": 2
}
